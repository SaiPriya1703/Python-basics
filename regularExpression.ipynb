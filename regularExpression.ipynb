{
 "cells": [
  {
   "cell_type": "code",
   "execution_count": 5,
   "id": "e0825538-81ae-412e-a8af-7d8b25d71d40",
   "metadata": {},
   "outputs": [
    {
     "name": "stdout",
     "output_type": "stream",
     "text": [
      "I am going college for \n",
      "learning nlp\n"
     ]
    }
   ],
   "source": [
    "print(\"I am going college for \\nlearning nlp\")"
   ]
  },
  {
   "cell_type": "code",
   "execution_count": 3,
   "id": "e852144f-b5eb-4530-b4fc-7295e98c178c",
   "metadata": {},
   "outputs": [
    {
     "name": "stdout",
     "output_type": "stream",
     "text": [
      "I am going \n",
      "college for \n",
      "learning nlp\n"
     ]
    }
   ],
   "source": [
    "print(\"I am going \\ncollege for \\nlearning nlp\")"
   ]
  },
  {
   "cell_type": "code",
   "execution_count": 7,
   "id": "5dc1de4b-33e7-4f37-ada6-c0de076591a4",
   "metadata": {},
   "outputs": [
    {
     "name": "stdout",
     "output_type": "stream",
     "text": [
      "I am going to \n",
      "college for \tlearning nlp\n"
     ]
    }
   ],
   "source": [
    "#SPACE(\\t)\n",
    "print(\"I am going to \\ncollege for \\tlearning nlp\")\n"
   ]
  },
  {
   "cell_type": "code",
   "execution_count": 13,
   "id": "73e9d8bc-640e-4d1e-80d3-5249349b9791",
   "metadata": {},
   "outputs": [
    {
     "name": "stdout",
     "output_type": "stream",
     "text": [
      "learning nlpollege for\n"
     ]
    }
   ],
   "source": [
    "#carriage return(\\r)\n",
    "print(\"I am going college for\\rlearning nlp\")"
   ]
  },
  {
   "cell_type": "code",
   "execution_count": 27,
   "id": "c995fd28-9c99-492f-91ec-3b95d5cee6a9",
   "metadata": {},
   "outputs": [
    {
     "name": "stdout",
     "output_type": "stream",
     "text": [
      "learning nlp           \n"
     ]
    }
   ],
   "source": [
    "print(\"I am going college for \\rlearning nlp          \")\n"
   ]
  },
  {
   "cell_type": "code",
   "execution_count": 41,
   "id": "cf182b70-93cb-4771-a4f3-15c1587492ea",
   "metadata": {},
   "outputs": [
    {
     "data": {
      "text/plain": [
       "'007'"
      ]
     },
     "execution_count": 41,
     "metadata": {},
     "output_type": "execute_result"
    }
   ],
   "source": [
    "#re.match() retrives only starting number(\\d+=digits)\n",
    "import re\n",
    "string=\"007 james bond wants to learn the python\"\n",
    "pattern=r'\\d+'\n",
    "matching=re.match(pattern,string)\n",
    "matching.group()"
   ]
  },
  {
   "cell_type": "code",
   "execution_count": 43,
   "id": "cb152a58-6780-4c75-905d-ad34ff255fce",
   "metadata": {},
   "outputs": [
    {
     "data": {
      "text/plain": [
       "'005'"
      ]
     },
     "execution_count": 43,
     "metadata": {},
     "output_type": "execute_result"
    }
   ],
   "source": [
    "#re.match() used to get the number which comes first\n",
    "import re\n",
    "string=\"james bond wants 005 to 006 learn the python\"\n",
    "pattern=r'\\d+'\n",
    "matching=re.search(pattern,string)\n",
    "matching.group()"
   ]
  },
  {
   "cell_type": "code",
   "execution_count": 45,
   "id": "36453f84-c7b1-4dc0-baed-a172c6fb8226",
   "metadata": {},
   "outputs": [
    {
     "data": {
      "text/plain": [
       "['005', '0008', '10000']"
      ]
     },
     "execution_count": 45,
     "metadata": {},
     "output_type": "execute_result"
    }
   ],
   "source": [
    "#re.findall()\n",
    "import re\n",
    "string=\"james bond wants 005 to 0008 anf 10000 learn the python\"\n",
    "pattern=r'\\d+'\n",
    "matching=re.findall(pattern,string)\n",
    "matching"
   ]
  },
  {
   "cell_type": "code",
   "execution_count": 53,
   "id": "e1825bef-7b9d-4bd7-bd4a-97593822b4c3",
   "metadata": {},
   "outputs": [
    {
     "data": {
      "text/plain": [
       "'james bond wants ### to #### anf ##### learn## the python'"
      ]
     },
     "execution_count": 53,
     "metadata": {},
     "output_type": "execute_result"
    }
   ],
   "source": [
    "#re,sub-to make changes where ever you want to\n",
    "import re\n",
    "string=\"james bond wants 005 to 0008 anf 10000 learn67 the python\"\n",
    "pattern=r'\\d'\n",
    "matching=re.sub(pattern,'#',string)\n",
    "matching"
   ]
  },
  {
   "cell_type": "code",
   "execution_count": 59,
   "id": "60b9913b-5832-4314-81c2-894f3c1e3528",
   "metadata": {},
   "outputs": [
    {
     "name": "stdout",
     "output_type": "stream",
     "text": [
      "['info@example.com', 'support123@company.org', 'support123@company.ac.in']\n"
     ]
    }
   ],
   "source": [
    "# Test case\n",
    "text = \"\"\"\n",
    "Hello world! Contact us at info@example.com or support123@company.org. support123@company.ac.in Follow us on social media: #AI #MachineLearning.\n",
    "Visit <a href=\"http://example.com\">our website</a> for more details. This is a test with number 1234.\n",
    "\"\"\"\n",
    "Email = r'[a-zA-Z0-9._%+-]+@[a-zA-Z0-9.-]+\\.[a-zA-Z]{2,}'\n",
    "ext=re.findall(Email,text)\n",
    "print(ext)"
   ]
  },
  {
   "cell_type": "code",
   "execution_count": null,
   "id": "6154be19-2a7d-4ede-a5ec-4daf5657bf4a",
   "metadata": {},
   "outputs": [],
   "source": [
    "hash_tags=re.findall(r'#\\w+')"
   ]
  },
  {
   "cell_type": "code",
   "execution_count": null,
   "id": "5bb22973-5fd7-4274-9639-f635dc4612da",
   "metadata": {},
   "outputs": [],
   "source": []
  }
 ],
 "metadata": {
  "kernelspec": {
   "display_name": "Python [conda env:base] *",
   "language": "python",
   "name": "conda-base-py"
  },
  "language_info": {
   "codemirror_mode": {
    "name": "ipython",
    "version": 3
   },
   "file_extension": ".py",
   "mimetype": "text/x-python",
   "name": "python",
   "nbconvert_exporter": "python",
   "pygments_lexer": "ipython3",
   "version": "3.12.7"
  }
 },
 "nbformat": 4,
 "nbformat_minor": 5
}
